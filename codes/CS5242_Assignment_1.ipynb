{
 "cells": [
  {
   "cell_type": "markdown",
   "metadata": {},
   "source": [
    "# Introduction\n",
    "\n",
    "\n",
    "**ASSIGNMENT DEADLINE: 4 MAR 2018 (SUN) 17:00PM**\n",
    "\n",
    "In this assignment we will be coding the building blocks for the convolutional neural network and putting them together to train a CNN on the MNIST dataset.\n",
    "\n",
    "**Attention: Only python3 will be allowed to use in this assignment. And we use `numpy` to store and caculate data and parameters. You do not need a GPU to for this assignment. CPU is enough. To run this Jupyter notebook, you need to install the depedent libraries in [requiremets.txt](requirements.txt) via pip (or pip3). Note: keras version should be >=2.1.2. Please do not run this whole file before you implement all the codes. Otherwise it will occur some error.**\n",
    "\n",
    "For each layer we will implement a forward and a backward function. The forward function will receive inputs and will return the outputs of this layer(loss layer will be a little different), like this:\n",
    "\n",
    "```python\n",
    "def forward(self, inputs):\n",
    "  \"\"\" Receive inputs and return output\"\"\"\n",
    "  # Do some computations ...\n",
    "  z = # ... some intermediate value\n",
    "  # Do some more computations ...\n",
    "  outputs = # the outputs\n",
    "    \n",
    "  return outputs\n",
    "```\n",
    "\n",
    "The backward pass will receive upstream derivatives and inputs, and will return gradients with respect to the inputs. Gradients for weights or bias will be stored in parameters in this layer , like this:\n",
    "\n",
    "```python\n",
    "def backward(self, in_grads, inputs):\n",
    "  \"\"\"\n",
    "  Receive derivative of loss with respect to outputs,\n",
    "  and compute derivative with respect to inputs.\n",
    "  \"\"\"\n",
    "  # Use values in cache to compute derivatives\n",
    "  out_grads = # Derivative of loss with respect to inputs\n",
    "  self.w_grad = # Derivative of loss with respect to self.weights\n",
    "  self.b_grad = # Derivative of loss with respect to self.bias\n",
    "    \n",
    "  return out_grads\n",
    "```\n",
    "\n",
    "After implementing a bunch of layers this way, we will be able to easily combine them to build classifiers with different architectures.\n",
    "\n",
    "This iPython notebook serves to:\n",
    "\n",
    "- explain the questions\n",
    "- explain the function APIs and implementation examples (like `ReLU`) \n",
    "- provide helper functions to piece functions together and check your code"
   ]
  },
  {
   "cell_type": "markdown",
   "metadata": {},
   "source": [
    "# ReLU layer\n",
    "A convolution layer is usually followed by a non-linear activation function. We will provide the functions `forward` and `backward` of class `ReLU` in `layers.py` as an implementation example. Read through the function code and make sure you understand the derivation. Besides, we will explain the implementation of `ReLU` after `Convolution` using formula. You need to write down other layers' formulations in your reports.\n",
    "\n",
    "## Forward Formulation\n",
    "Given input $x \\in R^{B \\times C \\times H \\times W}$ ($B$:batch size, $C$: number of channel, $H$: input height, $W$: input width),  output $y \\in R^{B \\times C \\times H \\times W}$ will be caculated like this:\n",
    "\n",
    "\\begin{equation*}\n",
    "y=indicator(x) \\times x\n",
    "\\end{equation*}\n",
    "\n",
    "Here, $indicator(x)$ return the same size of input $x$, comparing $x$ with 0 element-wisely. If $x_{i,j,k,l} \\geq 0$ return $z_{i,j,k,l}=1$. And the multiplication is also element-wise. If the input $x$ has only 2 dimensions, i.e. the batch dimension and the feature dimension, e.g. after the FC layer, the subscripts $j,k,l$ in the formula are merged into one $j$.\n",
    "\n",
    "## Backward Formulation\n",
    "Given input $x \\in R^{B \\times C \\times H \\times W}$ ($B$:batch size, $C$: number of channel, $H$: input height, $W$: input width) and gradients to output of this layer $dy \\in R^{B \\times C \\times H \\times W}$, gradients to input $dx$ will be caculated like this:\n",
    "\n",
    "\\begin{equation*}\n",
    "dx=indicator(x) \\times dy\n",
    "\\end{equation*}"
   ]
  },
  {
   "cell_type": "markdown",
   "metadata": {},
   "source": [
    "# Covolution Layer\n",
    "In the file `layers.py`, the class `Convolution` will be initialized with `conv_params`, `initializer` and `name`, shown as below:\n",
    "\n",
    "```python\n",
    "\n",
    "def __init__(self, conv_params, initializer=Guassian(), name='conv'):\n",
    "        super(Convolution, self).__init__(name=name)\n",
    "        self.trainable = True\n",
    "        self.kernel_h = conv_params['kernel_h'] # height of kernel\n",
    "        self.kernel_w = conv_params['kernel_w'] # width of kernel\n",
    "        self.pad = conv_params['pad']\n",
    "        self.stride = conv_params['stride']\n",
    "        self.in_channel = conv_params['in_channel']\n",
    "        self.out_channel = conv_params['out_channel']\n",
    "\n",
    "        self.weights = initializer.initialize((self.out_channel, self.in_channel, self.kernel_h, self.kernel_w))\n",
    "        self.bias = np.zeros((self.out_channel))\n",
    "\n",
    "        self.w_grad = np.zeros(self.weights.shape)\n",
    "        self.b_grad = np.zeros(self.bias.shape)\n",
    "```\n",
    "\n",
    "`conv_params` is a dictionary, containing these parameters:\n",
    "\n",
    "- 'kernel_h': The height of kernel.\n",
    "- 'kernel_w': The width of kernel.\n",
    "- 'stride': The number of pixels between adjacent receptive fields in the horizontal and vertical directions.\n",
    "- 'pad': The number of pixels padded to the bottom, top, left and right of each feature map. **Here, `pad=2` means a 2-pixel border of padded with zeros. So the total number of zeros for horizontal (or vertical) direction is 2\\*pad=4**.\n",
    "- 'in_channel': The number of input channels.\n",
    "- 'out_channel': The number of output channels.\n",
    "\n",
    "`initializer` is an instance of Initializer class (leave it out right now)"
   ]
  },
  {
   "cell_type": "markdown",
   "metadata": {},
   "source": [
    "## Forward\n",
    "In the file `layers.py`, implement the forward pass for a convolutional layer in the function `forward` of class `Convolution`.\n",
    "\n",
    "The input consists of N data points, each with C channels, height H and width W. We convolve each input with K different kernels, where each filter spans all C channels and has height HH and width WW.\n",
    "\n",
    "Input:\n",
    "\n",
    "- inputs: Input data of shape (N, C, H, W)\n",
    "\n",
    "**WARNING:** Please implement the matrix product method of convolution as shown in Lecture notes. The naive version of implementing a sliding window will be too slow when you try to train the whole CNN in later sections.\n",
    "\n",
    "You can test your implementation by restarting jupyter notebook kernel and running the following:"
   ]
  },
  {
   "cell_type": "code",
   "execution_count": 1,
   "metadata": {},
   "outputs": [
    {
     "name": "stderr",
     "output_type": "stream",
     "text": [
      "Using TensorFlow backend.\n"
     ]
    },
    {
     "name": "stdout",
     "output_type": "stream",
     "text": [
      "Relative error (<1e-6 will be fine):  3.35434112199e-07\n"
     ]
    }
   ],
   "source": [
    "import numpy as np\n",
    "from layers import Convolution\n",
    "from utils.tools import rel_error\n",
    "\n",
    "import keras\n",
    "from keras import layers\n",
    "from keras import models\n",
    "from keras import optimizers\n",
    "from keras import backend as K\n",
    "\n",
    "import warnings\n",
    "warnings.filterwarnings('ignore')\n",
    "\n",
    "inputs = np.random.uniform(size=(10, 3, 30, 30))\n",
    "params = { 'kernel_h': 5,\n",
    "          'kernel_w': 5,\n",
    "          'pad': 0,\n",
    "          'stride': 2,\n",
    "          'in_channel': inputs.shape[1],\n",
    "          'out_channel': 64,\n",
    "}\n",
    "layer = Convolution(params)\n",
    "out = layer.forward(inputs)\n",
    "\n",
    "keras_model = keras.Sequential()\n",
    "keras_layer = layers.Conv2D(filters=params['out_channel'],\n",
    "                            kernel_size=(params['kernel_h'], params['kernel_w']),\n",
    "                            strides=(params['stride'], params['stride']),\n",
    "                            padding='valid',\n",
    "                            data_format='channels_first',\n",
    "                            input_shape=inputs.shape[1:])\n",
    "keras_model.add(keras_layer)\n",
    "sgd = optimizers.SGD(lr=0.01)\n",
    "keras_model.compile(loss='mean_squared_error', optimizer='sgd')\n",
    "weights = np.transpose(layer.weights, (2, 3, 1, 0))\n",
    "keras_layer.set_weights([weights, layer.bias])\n",
    "keras_out = keras_model.predict(inputs, batch_size=inputs.shape[0])\n",
    "print('Relative error (<1e-6 will be fine): ', rel_error(out, keras_out))"
   ]
  },
  {
   "cell_type": "markdown",
   "metadata": {},
   "source": [
    "## Backward\n",
    "Implement the backward pass for the convolution operation in the function `backward` of `Convolution` class in the file `layers.py`. \n",
    "\n",
    "When you are done, restart jupyter notebook and run the following to check your backward pass with a numeric gradient check. \n",
    "\n",
    "In gradient checking, to get an approximate gradient for a parameter, we vary that parameter by a small amount (while keeping rest of parameters constant) and note the difference in the network loss. Dividing the difference in network loss by the amount we varied the parameter gives us an approximation for the gradient. We repeat this process for all the other parameters to obtain our numerical gradient. Note that gradient checking is a slow process (2 forward propagations per parameter) and should only be used to check your backpropagation!\n",
    "\n",
    "More links on gradient checking:\n",
    "\n",
    "http://ufldl.stanford.edu/tutorial/supervised/DebuggingGradientChecking/\n",
    "\n",
    "https://www.coursera.org/learn/machine-learning/lecture/Y3s6r/gradient-checking"
   ]
  },
  {
   "cell_type": "code",
   "execution_count": 1,
   "metadata": {},
   "outputs": [
    {
     "name": "stdout",
     "output_type": "stream",
     "text": [
      "<1e-8 will be fine\n",
      "Gradients to inputs: 1.35519242151e-11\n",
      "Gradients to weights:  5.46422737802e-13\n",
      "Gradients to bias:  5.16736666808e-13\n"
     ]
    }
   ],
   "source": [
    "from layers import Convolution\n",
    "import numpy as np\n",
    "from utils.check_grads import check_grads_layer\n",
    "\n",
    "batch = 10\n",
    "conv_params={\n",
    "    'kernel_h': 3,\n",
    "    'kernel_w': 3,\n",
    "    'pad': 0,\n",
    "    'stride': 2,\n",
    "    'in_channel': 3,\n",
    "    'out_channel': 10\n",
    "}\n",
    "in_height = 10\n",
    "in_width = 20\n",
    "out_height = 1+(in_height+2*conv_params['pad']-conv_params['kernel_h'])//conv_params['stride']\n",
    "out_width = 1+(in_width+2*conv_params['pad']-conv_params['kernel_w'])//conv_params['stride']\n",
    "inputs = np.random.uniform(size=(batch, conv_params['in_channel'], in_height, in_width))\n",
    "in_grads = np.random.uniform(size=(batch, conv_params['out_channel'], out_height, out_width))\n",
    "conv = Convolution(conv_params)\n",
    "check_grads_layer(conv, inputs, in_grads)"
   ]
  },
  {
   "cell_type": "markdown",
   "metadata": {},
   "source": [
    "# Dropout Layer\n",
    "Dropout [1] is a technique for regularizing neural networks by randomly setting some features to zero during the forward pass. In this exercise you will implement a dropout layer and modify your fully-connected network to optionally use dropout.\n",
    "\n",
    "[1] Geoffrey E. Hinton et al, \"Improving neural networks by preventing co-adaptation of feature detectors\", arXiv 2012\n",
    "\n",
    "In the file `layers.py`, the class `FCLayer` will be initialized with `ratio`, `seed` and `name`, shown as below:\n",
    "```python\n",
    "def __init__(self, ratio, name='dropout', seed=None):\n",
    "        super(Dropout, self).__init__(name=name)\n",
    "        self.ratio = ratio\n",
    "        self.mask = None\n",
    "        self.seed = seed\n",
    "```\n",
    "\n",
    "- `ratio`: The probability of setting a neuron to zero\n",
    "- `seed`: Random seed to sample from inputs, so as to get mask. (default as None)"
   ]
  },
  {
   "cell_type": "markdown",
   "metadata": {},
   "source": [
    "## Forward\n",
    "In the file `layers.py`, implement the forward pass for dropout. Since dropout behaves differently during training and testing, make sure to implement the operation for both modes.  `p` refers to the probability of setting a neuron to zero. We will follow the Caffe convention where we multiply the outputs by `1/(1-p)` during training. "
   ]
  },
  {
   "cell_type": "markdown",
   "metadata": {},
   "source": [
    "## Backward\n",
    "In the file `layers.py`, implement the backward pass for dropout. After doing so, restart jupyter notebook and run the following cell to numerically gradient-check your implementation."
   ]
  },
  {
   "cell_type": "code",
   "execution_count": 1,
   "metadata": {},
   "outputs": [
    {
     "name": "stdout",
     "output_type": "stream",
     "text": [
      "<1e-8 will be fine\n",
      "Gradients to inputs: 3.53740988945e-12\n"
     ]
    }
   ],
   "source": [
    "from layers import Dropout\n",
    "import numpy as np\n",
    "from utils.check_grads import check_grads_layer\n",
    "\n",
    "ratio = 0.1\n",
    "height = 10\n",
    "width = 20\n",
    "channel = 10\n",
    "batch = 10\n",
    "np.random.seed(1234)\n",
    "inputs = np.random.uniform(size=(batch, channel, height, width))\n",
    "in_grads = np.random.uniform(size=(batch, channel, height, width))\n",
    "dropout = Dropout(ratio, seed=1234)\n",
    "dropout.set_mode(True)\n",
    "check_grads_layer(dropout, inputs, in_grads)"
   ]
  },
  {
   "cell_type": "markdown",
   "metadata": {},
   "source": [
    "# Pooling Layer\n",
    "In the file `layers.py`, the class `Pooling` will be initialized with `pool_params`, and `name`, shown as below:\n",
    "```python\n",
    "def __init__(self, pool_params, name='pooling'):\n",
    "        super(Pooling, self).__init__(name=name)\n",
    "        self.pool_type = pool_params['pool_type']\n",
    "        self.pool_height = pool_params['pool_height']\n",
    "        self.pool_width = pool_params['pool_width']\n",
    "        self.stride = pool_params['stride']\n",
    "        self.pad = pool_params['pad']\n",
    "```\n",
    "\n",
    "`pool_params` is a dictionary, containing these parameters:\n",
    "\n",
    "- 'pool_type': The type of pooling, 'max' or 'avg'\n",
    "- 'pool_h': The height of pooling kernel.\n",
    "- 'pool_w': The width of pooling kernel.\n",
    "- 'stride': The number of pixels between adjacent receptive fields in the horizontal and vertical directions.\n",
    "- 'pad': The number of pixels that will be used to zero-pad the input in each x-y direction. **Here, `pad=2` means a 2-pixel border of padding with zeros**."
   ]
  },
  {
   "cell_type": "markdown",
   "metadata": {},
   "source": [
    "## Forward\n",
    "Implement the forward pass for the pooling operation in the function `forward` of class `Pooling` in the file `layers.py`.\n",
    "\n",
    "You can test your implementation by restarting jupyter notebook kernel and running the following:"
   ]
  },
  {
   "cell_type": "code",
   "execution_count": 1,
   "metadata": {},
   "outputs": [
    {
     "name": "stderr",
     "output_type": "stream",
     "text": [
      "Using TensorFlow backend.\n"
     ]
    },
    {
     "name": "stdout",
     "output_type": "stream",
     "text": [
      "Relative error (<1e-6 will be fine):  7.85803501996e-09\n"
     ]
    }
   ],
   "source": [
    "import numpy as np\n",
    "from layers import Pooling\n",
    "from utils.tools import rel_error\n",
    "\n",
    "import keras\n",
    "from keras import layers\n",
    "from keras import models\n",
    "from keras import optimizers\n",
    "from keras import backend as K\n",
    "\n",
    "import warnings\n",
    "warnings.filterwarnings('ignore')\n",
    "\n",
    "inputs = np.random.uniform(size=(10, 3, 30, 30))\n",
    "params = { 'pool_type': 'max',\n",
    "           'pool_height': 5,\n",
    "           'pool_width': 5,\n",
    "           'pad': 0,\n",
    "           'stride': 2,\n",
    "}\n",
    "layer = Pooling(params)\n",
    "out = layer.forward(inputs)\n",
    "\n",
    "keras_model = keras.Sequential()\n",
    "keras_layer = layers.MaxPooling2D(pool_size=(params['pool_height'], params['pool_width']),\n",
    "                                 strides=params['stride'],\n",
    "                                 padding='valid',\n",
    "                                 data_format='channels_first',\n",
    "                                 input_shape=inputs.shape[1:])\n",
    "keras_model.add(keras_layer)\n",
    "sgd = optimizers.SGD(lr=0.01)\n",
    "keras_model.compile(loss='mean_squared_error', optimizer='sgd')\n",
    "keras_out = keras_model.predict(inputs, batch_size=inputs.shape[0])\n",
    "print('Relative error (<1e-6 will be fine): ', rel_error(out, keras_out))"
   ]
  },
  {
   "cell_type": "markdown",
   "metadata": {},
   "source": [
    "## Backward\n",
    "Implement the backward pass for the max-pooling operation in the function `backward` of class `Pooling` in the file `layers.py`.\n",
    "\n",
    "Please make sure you have implemented both ’max’ and ’avg’ pooing in your codes. And then test the gradients by yourself."
   ]
  },
  {
   "cell_type": "markdown",
   "metadata": {},
   "source": [
    "# FC Layer\n",
    "\n",
    "FC layer (short for fully connected layer) is also called linear layer or dense layer.\n",
    "\n",
    "In the file `layers.py`, the class `FCLayer` will be initialized with `in_features`, `out_features`, and `name`, shown as below:\n",
    "```python\n",
    "def __init__(self, in_features, out_features, name='fclayer', initializer=Guassian()):\n",
    "        super(FCLayer, self).__init__(name=name)\n",
    "        self.trainable = True\n",
    "        self.weights = initializer.initialize((in_features, out_features))\n",
    "        self.bias = initializer.initialize(out_features)\n",
    "\n",
    "        self.w_grad = np.zeros(self.weights.shape)\n",
    "        self.b_grad = np.zeros(self.bias.shape)\n",
    "```\n",
    "\n",
    "- `in_features`: The number of inputs features\n",
    "- `out_features`: The numbet of required outputs features"
   ]
  },
  {
   "cell_type": "markdown",
   "metadata": {},
   "source": [
    "## Forward\n",
    "Implement the forward pass for the pooling operation in the function `forward` of class `FCLayer` in the file `layers.py`.\n",
    "\n",
    "You can test your implementation by restarting jupyter notebook kernel and running the following:"
   ]
  },
  {
   "cell_type": "code",
   "execution_count": 1,
   "metadata": {},
   "outputs": [
    {
     "name": "stderr",
     "output_type": "stream",
     "text": [
      "Using TensorFlow backend.\n"
     ]
    },
    {
     "name": "stdout",
     "output_type": "stream",
     "text": [
      "Relative error (<1e-6 will be fine):  1.46020726562e-07\n"
     ]
    }
   ],
   "source": [
    "import numpy as np\n",
    "from layers import FCLayer\n",
    "from utils.tools import rel_error\n",
    "\n",
    "import keras\n",
    "from keras import layers\n",
    "from keras import models\n",
    "from keras import optimizers\n",
    "from keras import backend as K\n",
    "\n",
    "import warnings\n",
    "warnings.filterwarnings('ignore')\n",
    "\n",
    "inputs = np.random.uniform(size=(10, 20))\n",
    "\n",
    "layer = FCLayer(in_features=inputs.shape[1], out_features=100)\n",
    "out = layer.forward(inputs)\n",
    "\n",
    "keras_model = keras.Sequential()\n",
    "keras_layer = layers.Dense(100, input_shape=inputs.shape[1:], use_bias=True, kernel_initializer='random_normal', bias_initializer='zeros')\n",
    "# print (len(keras_layer.get_weights()))\n",
    "keras_model.add(keras_layer)\n",
    "sgd = optimizers.SGD(lr=0.01)\n",
    "keras_model.compile(loss='mean_squared_error', optimizer='sgd')\n",
    "keras_layer.set_weights([layer.weights, layer.bias])\n",
    "keras_out = keras_model.predict(inputs, batch_size=inputs.shape[0])\n",
    "print('Relative error (<1e-6 will be fine): ', rel_error(out, keras_out))"
   ]
  },
  {
   "cell_type": "markdown",
   "metadata": {},
   "source": [
    "## Backward\n",
    "Implement the backward pass for the max-pooling operation in the function `backward` of class `FCLayer` in the file `layers.py`. Please test the gradients by yourself."
   ]
  },
  {
   "cell_type": "markdown",
   "metadata": {},
   "source": [
    "# SoftmaxCrossEntropy Loss\n",
    "We write Softmax and CrossEntropy together because it can avoid some numeric overflow problem.In the file `loss.py`, the class `SoftmaxCrossEntropy` will be initialized with `num_class`,  shown as below:\n",
    "```python\n",
    "def __init__(self, num_class):\n",
    "        super(SoftmaxCrossEntropy, self).__init__()\n",
    "        self.num_class = num_class\n",
    "```\n",
    "\n",
    "`num_class`: The number of category"
   ]
  },
  {
   "cell_type": "markdown",
   "metadata": {},
   "source": [
    "## Forward\n",
    "Implement the forward pass for the pooling operation in the function `forward` of class `FCLayer` in the file `layers.py`.\n",
    "\n",
    "You can test your implementation by restarting jupyter notebook kernel and running the following:"
   ]
  },
  {
   "cell_type": "code",
   "execution_count": 1,
   "metadata": {},
   "outputs": [
    {
     "name": "stderr",
     "output_type": "stream",
     "text": [
      "Using TensorFlow backend.\n"
     ]
    },
    {
     "name": "stdout",
     "output_type": "stream",
     "text": [
      "Relative error (<1e-6 will be fine):  0.0\n"
     ]
    }
   ],
   "source": [
    "import numpy as np\n",
    "from loss import SoftmaxCrossEntropy\n",
    "from utils.tools import rel_error\n",
    "\n",
    "import keras\n",
    "from keras import layers\n",
    "from keras import models\n",
    "from keras import optimizers\n",
    "from keras import backend as K\n",
    "\n",
    "import warnings\n",
    "warnings.filterwarnings('ignore')\n",
    "\n",
    "batch = 10\n",
    "num_class = 10\n",
    "inputs = np.random.uniform(size=(batch, num_class))\n",
    "targets = np.random.randint(num_class, size=batch)\n",
    "\n",
    "loss = SoftmaxCrossEntropy(num_class)\n",
    "out, _ = loss.forward(inputs, targets)\n",
    "\n",
    "keras_inputs = K.softmax(inputs)\n",
    "keras_targets = np.zeros(inputs.shape, dtype='int')\n",
    "for i in range(batch):\n",
    "        keras_targets[i, targets[i]] = 1\n",
    "keras_out = K.mean(K.categorical_crossentropy(keras_targets, keras_inputs, from_logits=False))\n",
    "print('Relative error (<1e-6 will be fine): ', rel_error(out, K.eval(keras_out)))"
   ]
  },
  {
   "cell_type": "markdown",
   "metadata": {},
   "source": [
    "## Backward\n",
    "In the file `loss.py`, implement the backward pass for `SodtmaxCrossEntropy`. Please test the gradients by yourself."
   ]
  },
  {
   "cell_type": "markdown",
   "metadata": {},
   "source": [
    "# Optimizer\n",
    "In the file `optimizers.py`, there are 4 types of optimizer (`SGD`, `Adam`, `RMSprop` and `Adagrad`). You only need to implement the `update` function of `SGD`(mini-batch SGD with momentum) and `Adam`. These two types of optimizers are initialized like this:\n",
    "\n",
    "```python\n",
    "class SGD(Optimizer):\n",
    "    def __init__(self, lr=0.01, momentum=0, decay=0, sheduler_func = None):\n",
    "        super(SGD, self).__init__(lr)\n",
    "        self.momentum = momentum\n",
    "        self.moments = None\n",
    "        self.decay = decay\n",
    "        self.sheduler_func = sheduler_func\n",
    "        \n",
    "class Adam(Optimizer):\n",
    "    def __init__(self, lr=0.001, beta_1=0.9, beta_2=0.999, epsilon=None, decay=0, sheduler_func=None):\n",
    "        super(Adam, self).__init__(lr)\n",
    "        self.beta_1 = beta_1\n",
    "        self.beta_2 = beta_2\n",
    "        self.epsilon = epsilon\n",
    "        self.decay = decay\n",
    "        if not self.epsilon:\n",
    "            self.epsilon = 1e-8\n",
    "        self.moments = None\n",
    "        self.accumulators = None\n",
    "        self.sheduler_func = sheduler_func\n",
    "```\n",
    "\n",
    "For Both optimizers:\n",
    "- `lr`: The initial learning rate.\n",
    "- `decay`: The learning rate decay ratio\n",
    "- `sheduler_func`: Function to change learning rate with respect to iterations\n",
    "\n",
    "For `SGD`:\n",
    "- `momentum`: The ratio of moments\n",
    "\n",
    "\n",
    "For `Adam`:\n",
    "More details can be seen in reference.\n",
    "\n",
    "**For you reference:**\n",
    "http://cs231n.github.io/neural-networks-3/#update"
   ]
  },
  {
   "cell_type": "markdown",
   "metadata": {},
   "source": [
    "# Train the net on full MNIST data\n",
    "By training the `MNISTNet` for one epoch, you should achieve about 90% on the validation and test set. You may have to wait about 5 minutes for training to be completed."
   ]
  },
  {
   "cell_type": "code",
   "execution_count": 1,
   "metadata": {},
   "outputs": [
    {
     "name": "stdout",
     "output_type": "stream",
     "text": [
      "Number of training images:  48000\n",
      "Number of validation images:  12000\n",
      "Number of testing images:  10000\n",
      "\n",
      "Four examples of training images:\n"
     ]
    },
    {
     "data": {
      "text/plain": [
       "<matplotlib.image.AxesImage at 0x1d5055eccc0>"
      ]
     },
     "execution_count": 1,
     "metadata": {},
     "output_type": "execute_result"
    },
    {
     "data": {
      "image/png": "[encoded data removed]",
      "text/plain": [
       "<matplotlib.figure.Figure at 0x1d5052e6208>"
      ]
     },
     "metadata": {},
     "output_type": "display_data"
    }
   ],
   "source": [
    "%matplotlib inline\n",
    "import matplotlib.pyplot as plt\n",
    "from applications import MNISTNet\n",
    "from loss import SoftmaxCrossEntropy, L2\n",
    "from optimizers import Adam\n",
    "from utils.datsets import MNIST\n",
    "import numpy as np\n",
    "\n",
    "mnist = MNIST()\n",
    "mnist.load()\n",
    "idx = np.random.randint(mnist.num_train, size=4)\n",
    "print('\\nFour examples of training images:')\n",
    "img = mnist.x_train[idx][:,0,:,:]\n",
    "\n",
    "plt.figure(1, figsize=(18, 18))\n",
    "plt.subplot(1, 4, 1)\n",
    "plt.imshow(img[0])\n",
    "plt.subplot(1, 4, 2)\n",
    "plt.imshow(img[1])\n",
    "plt.subplot(1, 4, 3)\n",
    "plt.imshow(img[2])\n",
    "plt.subplot(1, 4, 4)\n",
    "plt.imshow(img[3])"
   ]
  },
  {
   "cell_type": "code",
   "execution_count": 2,
   "metadata": {},
   "outputs": [
    {
     "name": "stdout",
     "output_type": "stream",
     "text": [
      "Epoch 0: \n",
      "Test accuracy=0.13180, loss=2.30259\n",
      "Validation accuracy: 0.14533, loss: 2.30259\n",
      "Iteration 0:\taccuracy=0.23333, loss=2.30259, regularization loss= 0.00527226041711\n",
      "Validation accuracy: 0.37408, loss: 1.64405\n",
      "Iteration 100:\taccuracy=0.33333, loss=1.74381, regularization loss= 0.0161672316543\n",
      "Validation accuracy: 0.57008, loss: 1.13644\n",
      "Iteration 200:\taccuracy=0.63333, loss=1.09022, regularization loss= 0.0333746400214\n",
      "Test accuracy=0.75680, loss=0.65120\n",
      "Validation accuracy: 0.76675, loss: 0.63605\n",
      "Iteration 300:\taccuracy=0.80000, loss=0.58771, regularization loss= 0.0509250241148\n",
      "Validation accuracy: 0.87583, loss: 0.39112\n",
      "Iteration 400:\taccuracy=0.90000, loss=0.43316, regularization loss= 0.0640272039623\n",
      "Validation accuracy: 0.91092, loss: 0.27943\n",
      "Iteration 500:\taccuracy=0.93333, loss=0.27791, regularization loss= 0.0695953930756\n",
      "Test accuracy=0.90460, loss=0.30874\n",
      "Validation accuracy: 0.89892, loss: 0.32359\n",
      "Iteration 600:\taccuracy=0.83333, loss=0.53793, regularization loss= 0.0706584144232\n",
      "Validation accuracy: 0.93158, loss: 0.22554\n",
      "Iteration 700:\taccuracy=0.96667, loss=0.12825, regularization loss= 0.070973657242\n",
      "Validation accuracy: 0.94425, loss: 0.18961\n",
      "Iteration 800:\taccuracy=0.96667, loss=0.19082, regularization loss= 0.071672787554\n",
      "Test accuracy=0.94690, loss=0.15361\n",
      "Validation accuracy: 0.94417, loss: 0.17469\n",
      "Iteration 900:\taccuracy=0.96667, loss=0.22437, regularization loss= 0.0720035885343\n",
      "Validation accuracy: 0.92633, loss: 0.22596\n",
      "Iteration 1000:\taccuracy=0.96667, loss=0.24365, regularization loss= 0.074503169599\n",
      "Validation accuracy: 0.94858, loss: 0.16590\n",
      "Iteration 1100:\taccuracy=0.96667, loss=0.09423, regularization loss= 0.0711111049284\n",
      "Test accuracy=0.94320, loss=0.17398\n",
      "Validation accuracy: 0.94142, loss: 0.18394\n",
      "Iteration 1200:\taccuracy=0.96667, loss=0.08055, regularization loss= 0.0702211061387\n",
      "Validation accuracy: 0.94050, loss: 0.19641\n",
      "Iteration 1300:\taccuracy=0.93333, loss=0.14582, regularization loss= 0.0701571157283\n",
      "Validation accuracy: 0.95283, loss: 0.14992\n",
      "Iteration 1400:\taccuracy=0.96667, loss=0.16845, regularization loss= 0.0699417640948\n",
      "Test accuracy=0.95720, loss=0.13528\n",
      "Validation accuracy: 0.95325, loss: 0.15230\n",
      "Iteration 1500:\taccuracy=0.93333, loss=0.49244, regularization loss= 0.0708088771897\n",
      "Epoch 1: \n",
      "Test accuracy=0.93290, loss=0.20707\n",
      "Validation accuracy: 0.93208, loss: 0.21689\n",
      "Iteration 0:\taccuracy=0.96667, loss=0.11147, regularization loss= 0.0713669248312\n",
      "Validation accuracy: 0.96325, loss: 0.12600\n",
      "Iteration 100:\taccuracy=0.83333, loss=0.65671, regularization loss= 0.0730172649002\n",
      "Validation accuracy: 0.95692, loss: 0.14378\n",
      "Iteration 200:\taccuracy=1.00000, loss=0.01525, regularization loss= 0.0744442405322\n",
      "Test accuracy=0.95210, loss=0.15145\n",
      "Validation accuracy: 0.95008, loss: 0.16892\n",
      "Iteration 300:\taccuracy=0.96667, loss=0.08186, regularization loss= 0.0755879788049\n",
      "Validation accuracy: 0.94800, loss: 0.18950\n",
      "Iteration 400:\taccuracy=0.90000, loss=0.20045, regularization loss= 0.076354998646\n",
      "Validation accuracy: 0.96125, loss: 0.13669\n",
      "Iteration 500:\taccuracy=0.96667, loss=0.15651, regularization loss= 0.0766662115319\n",
      "Test accuracy=0.96180, loss=0.12179\n",
      "Validation accuracy: 0.96033, loss: 0.13136\n",
      "Iteration 600:\taccuracy=1.00000, loss=0.03518, regularization loss= 0.0764778081341\n",
      "Validation accuracy: 0.96125, loss: 0.13211\n",
      "Iteration 700:\taccuracy=0.96667, loss=0.06103, regularization loss= 0.0777790696999\n",
      "Validation accuracy: 0.96100, loss: 0.12883\n",
      "Iteration 800:\taccuracy=1.00000, loss=0.02206, regularization loss= 0.0778600338732\n",
      "Test accuracy=0.96890, loss=0.10163\n",
      "Validation accuracy: 0.96608, loss: 0.11410\n",
      "Iteration 900:\taccuracy=1.00000, loss=0.03018, regularization loss= 0.079308054105\n",
      "Validation accuracy: 0.96233, loss: 0.13189\n",
      "Iteration 1000:\taccuracy=0.96667, loss=0.33527, regularization loss= 0.0807387231729\n",
      "Validation accuracy: 0.96300, loss: 0.12592\n",
      "Iteration 1100:\taccuracy=0.96667, loss=0.10836, regularization loss= 0.0818866193899\n",
      "Test accuracy=0.96490, loss=0.11176\n",
      "Validation accuracy: 0.96267, loss: 0.12581\n",
      "Iteration 1200:\taccuracy=0.93333, loss=0.18339, regularization loss= 0.0826638850445\n",
      "Validation accuracy: 0.96350, loss: 0.12629\n",
      "Iteration 1300:\taccuracy=0.96667, loss=0.06302, regularization loss= 0.0841513470629\n",
      "Validation accuracy: 0.96108, loss: 0.12666\n",
      "Iteration 1400:\taccuracy=1.00000, loss=0.02421, regularization loss= 0.0849362322024\n",
      "Test accuracy=0.96500, loss=0.10584\n",
      "Validation accuracy: 0.96425, loss: 0.12261\n",
      "Iteration 1500:\taccuracy=0.93333, loss=0.29725, regularization loss= 0.0859344219309\n"
     ]
    }
   ],
   "source": [
    "model = MNISTNet()\n",
    "loss = SoftmaxCrossEntropy(num_class=10)\n",
    "\n",
    "# define your learning rate sheduler\n",
    "def func(lr, iteration):\n",
    "    if iteration % 1000 ==0:\n",
    "        return lr*0.5\n",
    "    else:\n",
    "        return lr\n",
    "\n",
    "adam = Adam(lr=0.001, decay=0,  sheduler_func = func)\n",
    "l2 = L2(w=0.001) # L2 regularization with lambda=0.001\n",
    "model.compile(optimizer=adam, loss=loss, regularization=l2)\n",
    "train_results, val_results, test_results = model.train(\n",
    "    mnist, \n",
    "    train_batch=30, val_batch=1000, test_batch=1000, \n",
    "    epochs=2, \n",
    "    val_intervals=100, test_intervals=300, print_intervals=100)"
   ]
  },
  {
   "cell_type": "code",
   "execution_count": 3,
   "metadata": {},
   "outputs": [
    {
     "data": {
      "text/plain": [
       "[<matplotlib.lines.Line2D at 0x1d505b55dd8>]"
      ]
     },
     "execution_count": 3,
     "metadata": {},
     "output_type": "execute_result"
    },
    {
     "data": {
      "image/png": "[encoded data removed]",
      "text/plain": [
       "<matplotlib.figure.Figure at 0x1d5057bd0b8>"
      ]
     },
     "metadata": {},
     "output_type": "display_data"
    }
   ],
   "source": [
    "plt.figure(2, figsize=(18, 8))\n",
    "plt.subplot(2, 3, 1)\n",
    "plt.title('Training loss')\n",
    "plt.plot(train_results[:,0], train_results[:,1])\n",
    "plt.subplot(2, 3, 4)\n",
    "plt.title('Training accuracy')\n",
    "plt.plot(train_results[:,0], train_results[:,2])\n",
    "plt.subplot(2, 3, 2)\n",
    "plt.title('Validation loss')\n",
    "plt.plot(val_results[:,0], val_results[:,1])\n",
    "plt.subplot(2, 3, 5)\n",
    "plt.title('Validation accuracy')\n",
    "plt.plot(val_results[:,0], val_results[:,2])\n",
    "plt.subplot(2, 3, 3)\n",
    "plt.title('Testing loss')\n",
    "plt.plot(test_results[:,0], test_results[:, 1])\n",
    "plt.subplot(2, 3, 6)\n",
    "plt.title('Testing accuracy')\n",
    "plt.plot(test_results[:, 0], test_results[:,2])"
   ]
  },
  {
   "cell_type": "markdown",
   "metadata": {},
   "source": [
    "## Change of learning rate\n",
    "If we change the initial learning rate from 0.001 to 0.1, the training process becomes unstable and the loss is out of control. Thus, you need to be careful when setting the initial learning rate."
   ]
  },
  {
   "cell_type": "code",
   "execution_count": 4,
   "metadata": {},
   "outputs": [
    {
     "name": "stdout",
     "output_type": "stream",
     "text": [
      "Epoch 0: \n",
      "Test accuracy=0.05820, loss=2.30259\n",
      "Validation accuracy: 0.06092, loss: 2.30259\n",
      "Iteration 0:\taccuracy=0.06667, loss=2.30259, regularization loss= 0.00527180183798\n",
      "Validation accuracy: 0.10350, loss: 2.30445\n",
      "Iteration 100:\taccuracy=0.03333, loss=2.32744, regularization loss= 0.00987410182397\n",
      "Validation accuracy: 0.68292, loss: 0.88754\n",
      "Iteration 200:\taccuracy=0.60000, loss=1.54689, regularization loss= 0.108355846516\n",
      "Test accuracy=0.86810, loss=0.42109\n",
      "Validation accuracy: 0.86925, loss: 0.41912\n",
      "Iteration 300:\taccuracy=0.86667, loss=0.57984, regularization loss= 0.145205831541\n",
      "Validation accuracy: 0.78150, loss: 0.84111\n",
      "Iteration 400:\taccuracy=0.76667, loss=1.18636, regularization loss= 0.137674981268\n",
      "Validation accuracy: 0.79225, loss: 0.82365\n",
      "Iteration 500:\taccuracy=0.76667, loss=0.59550, regularization loss= 0.126970219704\n",
      "Test accuracy=0.81020, loss=0.78344\n",
      "Validation accuracy: 0.82058, loss: 0.75073\n",
      "Iteration 600:\taccuracy=0.73333, loss=1.19046, regularization loss= 0.116500867851\n",
      "Validation accuracy: 0.86575, loss: 0.45897\n",
      "Iteration 700:\taccuracy=0.80000, loss=0.61019, regularization loss= 0.120073478461\n",
      "Validation accuracy: 0.86192, loss: 0.47321\n",
      "Iteration 800:\taccuracy=0.86667, loss=0.47114, regularization loss= 0.121249049093\n",
      "Test accuracy=0.88140, loss=0.42278\n",
      "Validation accuracy: 0.88233, loss: 0.44216\n",
      "Iteration 900:\taccuracy=0.83333, loss=0.40868, regularization loss= 0.116869897528\n",
      "Validation accuracy: 0.88450, loss: 0.40109\n",
      "Iteration 1000:\taccuracy=0.86667, loss=0.42712, regularization loss= 0.118833705333\n",
      "Validation accuracy: 0.88975, loss: 0.37651\n",
      "Iteration 1100:\taccuracy=0.93333, loss=0.56314, regularization loss= 0.100339845319\n",
      "Test accuracy=0.92990, loss=0.22828\n",
      "Validation accuracy: 0.92567, loss: 0.25244\n",
      "Iteration 1200:\taccuracy=0.80000, loss=0.55608, regularization loss= 0.0885605465798\n",
      "Validation accuracy: 0.91200, loss: 0.33308\n",
      "Iteration 1300:\taccuracy=0.96667, loss=0.12308, regularization loss= 0.0852844455615\n",
      "Validation accuracy: 0.92433, loss: 0.25513\n",
      "Iteration 1400:\taccuracy=0.93333, loss=0.14691, regularization loss= 0.0816679346742\n",
      "Test accuracy=0.91400, loss=0.29334\n",
      "Validation accuracy: 0.91233, loss: 0.29902\n",
      "Iteration 1500:\taccuracy=0.76667, loss=0.65266, regularization loss= 0.0812030095974\n",
      "Epoch 1: \n",
      "Test accuracy=0.92100, loss=0.30124\n",
      "Validation accuracy: 0.91583, loss: 0.33635\n",
      "Iteration 0:\taccuracy=0.90000, loss=0.25278, regularization loss= 0.0797430529996\n",
      "Validation accuracy: 0.92267, loss: 0.28358\n",
      "Iteration 100:\taccuracy=1.00000, loss=0.01640, regularization loss= 0.0790759567732\n",
      "Validation accuracy: 0.92367, loss: 0.24376\n",
      "Iteration 200:\taccuracy=0.93333, loss=0.49236, regularization loss= 0.0817784703119\n",
      "Test accuracy=0.93640, loss=0.22578\n",
      "Validation accuracy: 0.92917, loss: 0.25523\n",
      "Iteration 300:\taccuracy=0.90000, loss=0.50658, regularization loss= 0.0820038014595\n",
      "Validation accuracy: 0.92275, loss: 0.27855\n",
      "Iteration 400:\taccuracy=0.80000, loss=0.68874, regularization loss= 0.0864136067338\n",
      "Validation accuracy: 0.92733, loss: 0.25987\n",
      "Iteration 500:\taccuracy=0.86667, loss=0.43777, regularization loss= 0.0852757322431\n",
      "Test accuracy=0.94200, loss=0.20498\n",
      "Validation accuracy: 0.93967, loss: 0.22320\n",
      "Iteration 600:\taccuracy=0.96667, loss=0.12424, regularization loss= 0.0833897409365\n",
      "Validation accuracy: 0.94608, loss: 0.19541\n",
      "Iteration 700:\taccuracy=1.00000, loss=0.02418, regularization loss= 0.0837845468973\n",
      "Validation accuracy: 0.93317, loss: 0.25761\n",
      "Iteration 800:\taccuracy=0.96667, loss=0.08380, regularization loss= 0.0843931508302\n",
      "Test accuracy=0.94880, loss=0.18712\n",
      "Validation accuracy: 0.94358, loss: 0.20477\n",
      "Iteration 900:\taccuracy=0.96667, loss=0.12301, regularization loss= 0.0860317828238\n",
      "Validation accuracy: 0.93808, loss: 0.23042\n",
      "Iteration 1000:\taccuracy=0.86667, loss=0.87201, regularization loss= 0.0901751042841\n",
      "Validation accuracy: 0.92667, loss: 0.26658\n",
      "Iteration 1100:\taccuracy=0.93333, loss=0.12876, regularization loss= 0.0925087011574\n",
      "Test accuracy=0.94040, loss=0.20706\n",
      "Validation accuracy: 0.93642, loss: 0.22729\n",
      "Iteration 1200:\taccuracy=0.93333, loss=0.24399, regularization loss= 0.0953955609978\n",
      "Validation accuracy: 0.92833, loss: 0.24578\n",
      "Iteration 1300:\taccuracy=0.90000, loss=0.16298, regularization loss= 0.0978583347738\n",
      "Validation accuracy: 0.94658, loss: 0.18482\n",
      "Iteration 1400:\taccuracy=0.93333, loss=0.20688, regularization loss= 0.0998653910555\n",
      "Test accuracy=0.95010, loss=0.17149\n",
      "Validation accuracy: 0.94675, loss: 0.19172\n",
      "Iteration 1500:\taccuracy=0.96667, loss=0.15862, regularization loss= 0.101178096664\n"
     ]
    }
   ],
   "source": [
    "model = MNISTNet()\n",
    "loss = SoftmaxCrossEntropy(num_class=10)\n",
    "\n",
    "# define your learning rate sheduler\n",
    "def func(lr, iteration):\n",
    "    if iteration % 1000 ==0:\n",
    "        return lr*0.5\n",
    "    else:\n",
    "        return lr\n",
    "\n",
    "adam = Adam(lr=0.01, decay=0,  sheduler_func = func)\n",
    "l2 = L2(w=0.001) # L2 regularization with lambda=0.001\n",
    "model.compile(optimizer=adam, loss=loss, regularization=l2)\n",
    "train_results, val_results, test_results = model.train(\n",
    "    mnist, \n",
    "    train_batch=30, val_batch=1000, test_batch=1000, \n",
    "    epochs=2, \n",
    "    val_intervals=100, test_intervals=300, print_intervals=100)"
   ]
  },
  {
   "cell_type": "code",
   "execution_count": 5,
   "metadata": {},
   "outputs": [
    {
     "data": {
      "text/plain": [
       "[<matplotlib.lines.Line2D at 0x1d5072a1828>]"
      ]
     },
     "execution_count": 5,
     "metadata": {},
     "output_type": "execute_result"
    },
    {
     "data": {
      "image/png": "[encoded data removed]",
      "text/plain": [
       "<matplotlib.figure.Figure at 0x1d505a0d978>"
      ]
     },
     "metadata": {},
     "output_type": "display_data"
    }
   ],
   "source": [
    "plt.figure(2, figsize=(18, 8))\n",
    "plt.subplot(2, 3, 1)\n",
    "plt.title('Training loss')\n",
    "plt.plot(train_results[:,0], train_results[:,1])\n",
    "plt.subplot(2, 3, 4)\n",
    "plt.title('Training accuracy')\n",
    "plt.plot(train_results[:,0], train_results[:,2])\n",
    "plt.subplot(2, 3, 2)\n",
    "plt.title('Validation loss')\n",
    "plt.plot(val_results[:,0], val_results[:,1])\n",
    "plt.subplot(2, 3, 5)\n",
    "plt.title('Validation accuracy')\n",
    "plt.plot(val_results[:,0], val_results[:,2])\n",
    "plt.subplot(2, 3, 3)\n",
    "plt.title('Testing loss')\n",
    "plt.plot(test_results[:,0], test_results[:, 1])\n",
    "plt.subplot(2, 3, 6)\n",
    "plt.title('Testing accuracy')\n",
    "plt.plot(test_results[:, 0], test_results[:,2])"
   ]
  },
  {
   "cell_type": "markdown",
   "metadata": {},
   "source": [
    "# Train your best MNISTNet!\n",
    "Tweak the hyperparameters of the above MNISTNet and use what you've learnt to train the best net.\n",
    "\n",
    "Credits will be given based on your test accuracy, your explanations/insights of the training. The network is small, hence the training should finish quickly using your CPU (less than 1 hour). \n",
    "\n",
    "Please report the following:\n",
    "- Training validation and testing loss as well as accuracy over iterations\n",
    "- Architecture and training method (eg. optimization scheme, data augmentation): explain your design choices, what has failed and what has worked and why you think they worked/failed\n",
    "- Try different hyper-parameters, e.g. rate decaying, weight decay, number of layers and total number of epochs. \n",
    "\n",
    "Do NOT use external libraries like Tensorflow, keras and Pytorch in your implementation, i.e. optimizer.py, layer.py and loss.py. Do NOT copy the code from the internet, e.g. github. You should also give credits to any material that you refer to for your implementation."
   ]
  },
  {
   "cell_type": "markdown",
   "metadata": {
    "collapsed": true
   },
   "source": [
    "# Final submission instructions\n",
    "Please submit the following:\n",
    "\n",
    "1) Your code files in a folder `codes`\n",
    "\n",
    "2) A short report (1-2 pages) in pdf titled `report.pdf`, explaining the logic (expressed using mathematical formulation) of your implementation (including the forward and backward function like ReLU) and the findings from training your best net\n",
    "\n",
    "**ASSIGNMENT DEADLINE: 4 MAR 2018 (SUN) 17:00PM**\n",
    "\n",
    "Do not include the `data` folder as it takes up substantial memory. Please zip up the following folders under a folder named with your NUSNET ID: eg. `e0123456g.zip' and submit the zipped folder to IVLE/workbin/assignment 1 submission."
   ]
  },
  {
   "cell_type": "code",
   "execution_count": null,
   "metadata": {
    "collapsed": true
   },
   "outputs": [],
   "source": []
  }
 ],
 "metadata": {
  "kernelspec": {
   "display_name": "Python 3",
   "language": "python",
   "name": "python3"
  },
  "language_info": {
   "codemirror_mode": {
    "name": "ipython",
    "version": 3
   },
   "file_extension": ".py",
   "mimetype": "text/x-python",
   "name": "python",
   "nbconvert_exporter": "python",
   "pygments_lexer": "ipython3",
   "version": "3.6.3"
  },
  "latex_envs": {
   "LaTeX_envs_menu_present": true,
   "autocomplete": true,
   "bibliofile": "biblio.bib",
   "cite_by": "apalike",
   "current_citInitial": 1,
   "eqLabelWithNumbers": true,
   "eqNumInitial": 1,
   "hotkeys": {
    "equation": "Ctrl-E",
    "itemize": "Ctrl-I"
   },
   "labels_anchors": false,
   "latex_user_defs": false,
   "report_style_numbering": false,
   "user_envs_cfg": false
  }
 },
 "nbformat": 4,
 "nbformat_minor": 1
}
